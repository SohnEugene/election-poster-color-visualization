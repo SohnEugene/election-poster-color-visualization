{
  "nbformat": 4,
  "nbformat_minor": 0,
  "metadata": {
    "colab": {
      "provenance": []
    },
    "kernelspec": {
      "name": "python3",
      "display_name": "Python 3"
    },
    "language_info": {
      "name": "python"
    }
  },
  "cells": [
    {
      "cell_type": "code",
      "execution_count": null,
      "metadata": {
        "colab": {
          "base_uri": "https://localhost:8080/"
        },
        "id": "6UFm_qdVHObw",
        "outputId": "ee73fb86-9005-469c-d5ae-e898dc328f53"
      },
      "outputs": [
        {
          "output_type": "stream",
          "name": "stdout",
          "text": [
            "Mounted at /content/drive\n"
          ]
        }
      ],
      "source": [
        "import os\n",
        "import cv2\n",
        "\n",
        "from google.colab import drive\n",
        "drive.mount('/content/drive')"
      ]
    },
    {
      "cell_type": "code",
      "source": [
        "# 이미지를 받아서 width=1000인 이미지로 변환하는 함수\n",
        "\n",
        "def resize_image(img, new_width=1000):\n",
        "    if img is None:\n",
        "        print(f\"Failed to load image\")\n",
        "        return\n",
        "\n",
        "    height, width, channels = img.shape\n",
        "    new_height = int((new_width / width) * height)\n",
        "\n",
        "    resized_img = cv2.resize(img, (new_width, new_height), interpolation=cv2.INTER_AREA)\n",
        "    return resized_img"
      ],
      "metadata": {
        "id": "tahaCfRdIPuv"
      },
      "execution_count": null,
      "outputs": []
    },
    {
      "cell_type": "code",
      "source": [
        "# 실행 코드\n",
        "\n",
        "input_dir = \"\"\n",
        "output_dir = \"\"\n",
        "\n",
        "input_dir_list = os.listdir(input_dir)\n",
        "\n",
        "for dir in input_dir_list :\n",
        "    input_path = input_dir + dir\n",
        "    print(input_path)\n",
        "\n",
        "    file_list = os.listdir(input_path)\n",
        "    images = []\n",
        "    image_num = 0\n",
        "\n",
        "    for file_name in file_list:\n",
        "        img_path = os.path.join(input_path, file_name)\n",
        "        image = cv2.imread(img_path)\n",
        "\n",
        "        output_path = os.path.join(output_dir, dir)\n",
        "\n",
        "        file_path = os.path.join(output_path, file_name)  # 파일 경로\n",
        "        cv2.imwrite(file_path, resize_image(image))"
      ],
      "metadata": {
        "id": "qV_XvRN8HWYC"
      },
      "execution_count": null,
      "outputs": []
    }
  ]
}