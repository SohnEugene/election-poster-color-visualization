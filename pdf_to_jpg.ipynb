{
  "nbformat": 4,
  "nbformat_minor": 0,
  "metadata": {
    "colab": {
      "provenance": []
    },
    "kernelspec": {
      "name": "python3",
      "display_name": "Python 3"
    },
    "language_info": {
      "name": "python"
    }
  },
  "cells": [
    {
      "cell_type": "code",
      "source": [
        "!pip install pdf2image\n",
        "!apt-get install poppler-utils\n",
        "\n",
        "from pdf2image import convert_from_path\n",
        "from PIL import Image\n",
        "import os\n",
        "\n",
        "from google.colab import drive\n",
        "drive.mount('/content/drive')"
      ],
      "metadata": {
        "id": "vQOA8VTO-7ed"
      },
      "execution_count": null,
      "outputs": []
    },
    {
      "cell_type": "code",
      "source": [
        "# PDF 파일을 JPG 파일로 변환하는 함수\n",
        "\n",
        "def pdf_to_jpg(pdf_path, output_folder):\n",
        "    # Create output folder if it doesn't exist\n",
        "    if not os.path.exists(output_folder):\n",
        "        os.makedirs(output_folder)\n",
        "\n",
        "    # Convert each page of the PDF to JPG\n",
        "    pages = convert_from_path(pdf_path)\n",
        "    for i, page in enumerate(pages):\n",
        "        page.save(os.path.join(output_folder, f\"{os.path.splitext(os.path.basename(pdf_path))[0]}.jpg\"), 'JPEG')"
      ],
      "metadata": {
        "id": "YTlpJGnJFJoF"
      },
      "execution_count": null,
      "outputs": []
    },
    {
      "cell_type": "code",
      "source": [
        "# PDF 파일이 담긴 폴더와 동일한 구조의 폴더를 jpg_dir에 만드는 코드\n",
        "\n",
        "pdf_dir = \"\" # PDF 파일 폴더\n",
        "jpg_dir = \"\" # JPG 파일 폴더\n",
        "\n",
        "pdf_directories = [dir_name for dir_name in os.listdir(pdf_dir) if os.path.isdir(os.path.join(pdf_dir, dir_name))]\n",
        "\n",
        "for dir_name in pdf_directories:\n",
        "    new_dir_path = os.path.join(jpg_dir, dir_name)\n",
        "    os.makedirs(new_dir_path, exist_ok=True)\n",
        "    print(f\"Created directory: {new_dir_path}\")"
      ],
      "metadata": {
        "id": "TP3kYfVkuXmy"
      },
      "execution_count": null,
      "outputs": []
    },
    {
      "cell_type": "code",
      "source": [
        "# pdf_dir에 있는 모든 PDF 파일을 JPG 파일로 변환하여 jpg_dir에 저장하는 함수\n",
        "\n",
        "pdf_directories = [dir_name for dir_name in os.listdir(pdf_dir) if os.path.isdir(os.path.join(pdf_dir, dir_name))]\n",
        "\n",
        "for i in range(len(pdf_directories)) :\n",
        "    pdf_path = os.path.join(pdf_dir, pdf_directories[i])\n",
        "    jpg_path = os.path.join(jpg_dir, pdf_directories[i])\n",
        "\n",
        "    pdf_files = [os.path.join(pdf_path, f) for f in os.listdir(pdf_path)]\n",
        "\n",
        "    for pdf_file in pdf_files:\n",
        "        print(f\"Converting {pdf_file}...\")\n",
        "        pdf_to_jpg(pdf_file, jpg_path)"
      ],
      "metadata": {
        "id": "Dxww6qJKvNSU"
      },
      "execution_count": null,
      "outputs": []
    }
  ]
}