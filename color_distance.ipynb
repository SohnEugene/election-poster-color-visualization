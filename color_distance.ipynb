{
  "cells": [
    {
      "cell_type": "code",
      "execution_count": null,
      "metadata": {
        "colab": {
          "base_uri": "https://localhost:8080/"
        },
        "id": "Aj2jZdsZx6GS",
        "outputId": "45461d7a-4e94-4983-e940-daf87223c0e8"
      },
      "outputs": [
        {
          "output_type": "stream",
          "name": "stdout",
          "text": [
            "Drive already mounted at /content/drive; to attempt to forcibly remount, call drive.mount(\"/content/drive\", force_remount=True).\n"
          ]
        }
      ],
      "source": [
        "# Mount Google Drive\n",
        "from google.colab import drive\n",
        "drive.mount('/content/drive')\n",
        "\n",
        "import os\n",
        "from sklearn.cluster import KMeans\n",
        "import numpy as np\n",
        "from PIL import Image\n",
        "import pandas as pd"
      ]
    },
    {
      "cell_type": "code",
      "execution_count": null,
      "metadata": {
        "id": "gDUxQR0dC1hP"
      },
      "outputs": [],
      "source": [
        "# 한글 폰트 설치\n",
        "!sudo apt-get install -y fonts-nanum\n",
        "!sudo fc-cache -fv\n",
        "!rm ~/.cache/matplotlib -rf\n",
        "\n",
        "# Matplotlib의 폰트를 Nanum 폰트로 설정\n",
        "import matplotlib.pyplot as plt\n",
        "\n",
        "plt.rc('font', family='NanumBarunGothic')\n",
        "\n",
        "# 폰트가 제대로 로드되었는지 확인\n",
        "plt.figure(figsize=(10, 2))\n",
        "plt.title('한글 테스트: 폰트가 정상적으로 작동합니다')\n",
        "plt.show()\n"
      ]
    },
    {
      "cell_type": "markdown",
      "metadata": {
        "id": "RP3zGrog0sKU"
      },
      "source": [
        "- Directory Path 저장"
      ]
    },
    {
      "cell_type": "code",
      "execution_count": null,
      "metadata": {
        "id": "84AQGF0INXxg"
      },
      "outputs": [],
      "source": [
        "input_folder = \"\"\n",
        "output_folder = \"\""
      ]
    },
    {
      "cell_type": "code",
      "source": [
        "dir_list = [\"21대 총선 더불어민주당\", \"21대 총선 미래통합당\",\n",
        "            \"20대 총선 새누리당\", \"20대 총선 더불어민주당\", \"20대 총선 국민의당\",\n",
        "            \"19대 총선 새누리당\", \"19대 총선 민주통합당\",\n",
        "            \"18대 총선 한나라당\", \"18대 총선 통합민주당\",\n",
        "            \"17대 총선 한나라당\", \"17대 총선 열린우리당\",\n",
        "            \"16대 총선 한나라당\", \"16대 총선 새천년민주당\",\n",
        "            \"8대 지선 기초 더불어민주당\", \"8대 지선 기초 국민의힘\", \"8대 지선 광역 더불어민주당\", \"8대 지선 광역 국민의힘\",\n",
        "            \"7대 지선 기초 자유한국당\", \"7대 지선 기초 더불어민주당\", \"7대 지선 광역 자유한국당\", \"7대 지선 광역 더불어민주당\",\n",
        "            \"6대 지선 기초 새정치민주연합\", \"6대 지선 기초 새누리당\", \"6대 지선 광역 새정치민주연합\", \"6대 지선 광역 새누리당\",\n",
        "            \"5대 지선 기초 한나라당\", \"5대 지선 기초 민주당\", \"5대 지선 광역 한나라당\", \"5대 지선 광역 민주당\",\n",
        "            \"4대 지선 기초 한나라당\", \"4대 지선 기초 열린우리당\", \"4대 지선 광역 한나라당\", \"4대 지선 광역 열린우리당\", \"4대 지선 기초 민주당\", \"4대 지선 광역 민주당\" ,\n",
        "            \"3대 지선 기초 한나라당\", \"3대 지선 기초 새천년민주당\", \"3대 지선 광역 한나라당\", \"3대 지선 광역 새천년민주당\"]"
      ],
      "metadata": {
        "id": "JmF4tI01ALNs"
      },
      "execution_count": null,
      "outputs": []
    },
    {
      "cell_type": "markdown",
      "source": [
        "#  **인접 색상 사용 수치화**"
      ],
      "metadata": {
        "id": "BDito99PTD1y"
      }
    },
    {
      "cell_type": "code",
      "source": [
        "party_colors_by_election = {\n",
        "    \"21대 총선 더불어민주당\": (0, 78, 161),\n",
        "    \"21대 총선 미래통합당\": (239, 66, 111),\n",
        "    \"20대 총선 더불어민주당\": (0, 78, 161),\n",
        "    \"20대 총선 새누리당\": (201, 37, 43),\n",
        "    \"19대 총선 민주통합당\": (255, 213, 4),\n",
        "    \"19대 총선 새누리당\": (201, 37, 43),\n",
        "    \"18대 총선 통합민주당\": (65, 150, 57),\n",
        "    \"18대 총선 한나라당\": (0, 149, 218),\n",
        "    \"17대 총선 열린우리당\": (255, 217, 24),\n",
        "    \"17대 총선 한나라당\": (0, 149, 218),\n",
        "    \"16대 총선 새천년민주당\": (0, 170, 123),\n",
        "    \"16대 총선 한나라당\": (0, 0, 168),\n",
        "    \"8대 지선 기초 더불어민주당\": (0, 78, 161),\n",
        "    \"8대 지선 기초 국민의힘\": (230, 30, 43),\n",
        "    \"7대 지선 기초 더불어민주당\": (0, 78, 161),\n",
        "    \"7대 지선 기초 자유한국당\": (201, 21, 30),\n",
        "    \"6대 지선 기초 새정치민주연합\": (0, 130, 205),\n",
        "    \"6대 지선 기초 새누리당\": (201, 37, 43),\n",
        "    \"5대 지선 기초 민주당\": (1, 158, 51),\n",
        "    \"5대 지선 기초 한나라당\": (0, 149, 218),\n",
        "    \"4대 지선 기초 열린우리당\": (255, 217, 24),\n",
        "    \"4대 지선 기초 한나라당\": (0, 149, 218),\n",
        "    \"3대 지선 기초 새천년민주당\": (0, 170, 123),\n",
        "    \"3대 지선 기초 한나라당\": (0, 0, 168)\n",
        "}"
      ],
      "metadata": {
        "id": "EXWU-XLXVNAu"
      },
      "execution_count": null,
      "outputs": []
    },
    {
      "cell_type": "code",
      "source": [
        "import ast\n",
        "import pandas as pd\n",
        "\n",
        "# 각 정당의 color_vote_data를 불러와 party color 열을 추가하고 다시 저장하는 로직\n",
        "for name in dir_list:\n",
        "    directory = output_folder + name\n",
        "    color_vote_path = directory + \"_color_with_vote_data.csv\"\n",
        "\n",
        "    # color_vote_data 파일 불러오기\n",
        "    color_vote_data = pd.read_csv(color_vote_path, encoding='utf-8')\n",
        "\n",
        "    # 해당 정당의 대표색 가져오기\n",
        "    party_rgb = party_colors_by_election.get(name)\n",
        "\n",
        "    if party_rgb:\n",
        "        # 'party color' 열에 대표색 값 추가 (모든 행에 동일한 값으로 채움)\n",
        "        color_vote_data['party color'] = [party_rgb] * len(color_vote_data)\n",
        "\n",
        "        # 수정된 CSV 파일 저장\n",
        "        save_path = directory + \"_all_data_with_party_color.csv\"\n",
        "        color_vote_data.to_csv(save_path, index=False, encoding='utf-8-sig')\n",
        "        print(f\"저장 완료: {save_path}\")\n"
      ],
      "metadata": {
        "colab": {
          "base_uri": "https://localhost:8080/"
        },
        "id": "6QiKHECinHM8",
        "outputId": "ee34d5d3-4077-4f88-e8ce-ee33454a9fe7",
        "collapsed": true
      },
      "execution_count": null,
      "outputs": [
        {
          "output_type": "stream",
          "name": "stdout",
          "text": [
            "저장 완료: /content/drive/MyDrive/24-1/비주얼라이제이션/240506 test/색상 추출 파일/21대 총선 더불어민주당_all_data_with_party_color.csv\n",
            "저장 완료: /content/drive/MyDrive/24-1/비주얼라이제이션/240506 test/색상 추출 파일/21대 총선 미래통합당_all_data_with_party_color.csv\n",
            "저장 완료: /content/drive/MyDrive/24-1/비주얼라이제이션/240506 test/색상 추출 파일/20대 총선 더불어민주당_all_data_with_party_color.csv\n",
            "저장 완료: /content/drive/MyDrive/24-1/비주얼라이제이션/240506 test/색상 추출 파일/20대 총선 새누리당_all_data_with_party_color.csv\n",
            "저장 완료: /content/drive/MyDrive/24-1/비주얼라이제이션/240506 test/색상 추출 파일/19대 총선 민주통합당_all_data_with_party_color.csv\n",
            "저장 완료: /content/drive/MyDrive/24-1/비주얼라이제이션/240506 test/색상 추출 파일/19대 총선 새누리당_all_data_with_party_color.csv\n",
            "저장 완료: /content/drive/MyDrive/24-1/비주얼라이제이션/240506 test/색상 추출 파일/18대 총선 통합민주당_all_data_with_party_color.csv\n",
            "저장 완료: /content/drive/MyDrive/24-1/비주얼라이제이션/240506 test/색상 추출 파일/18대 총선 한나라당_all_data_with_party_color.csv\n",
            "저장 완료: /content/drive/MyDrive/24-1/비주얼라이제이션/240506 test/색상 추출 파일/17대 총선 열린우리당_all_data_with_party_color.csv\n",
            "저장 완료: /content/drive/MyDrive/24-1/비주얼라이제이션/240506 test/색상 추출 파일/17대 총선 한나라당_all_data_with_party_color.csv\n",
            "저장 완료: /content/drive/MyDrive/24-1/비주얼라이제이션/240506 test/색상 추출 파일/16대 총선 새천년민주당_all_data_with_party_color.csv\n",
            "저장 완료: /content/drive/MyDrive/24-1/비주얼라이제이션/240506 test/색상 추출 파일/16대 총선 한나라당_all_data_with_party_color.csv\n",
            "저장 완료: /content/drive/MyDrive/24-1/비주얼라이제이션/240506 test/색상 추출 파일/8대 지선 기초 더불어민주당_all_data_with_party_color.csv\n",
            "저장 완료: /content/drive/MyDrive/24-1/비주얼라이제이션/240506 test/색상 추출 파일/8대 지선 기초 국민의힘_all_data_with_party_color.csv\n",
            "저장 완료: /content/drive/MyDrive/24-1/비주얼라이제이션/240506 test/색상 추출 파일/7대 지선 기초 더불어민주당_all_data_with_party_color.csv\n",
            "저장 완료: /content/drive/MyDrive/24-1/비주얼라이제이션/240506 test/색상 추출 파일/7대 지선 기초 자유한국당_all_data_with_party_color.csv\n",
            "저장 완료: /content/drive/MyDrive/24-1/비주얼라이제이션/240506 test/색상 추출 파일/6대 지선 기초 새정치민주연합_all_data_with_party_color.csv\n",
            "저장 완료: /content/drive/MyDrive/24-1/비주얼라이제이션/240506 test/색상 추출 파일/6대 지선 기초 새누리당_all_data_with_party_color.csv\n",
            "저장 완료: /content/drive/MyDrive/24-1/비주얼라이제이션/240506 test/색상 추출 파일/5대 지선 기초 민주당_all_data_with_party_color.csv\n",
            "저장 완료: /content/drive/MyDrive/24-1/비주얼라이제이션/240506 test/색상 추출 파일/5대 지선 기초 한나라당_all_data_with_party_color.csv\n",
            "저장 완료: /content/drive/MyDrive/24-1/비주얼라이제이션/240506 test/색상 추출 파일/4대 지선 기초 열린우리당_all_data_with_party_color.csv\n",
            "저장 완료: /content/drive/MyDrive/24-1/비주얼라이제이션/240506 test/색상 추출 파일/4대 지선 기초 한나라당_all_data_with_party_color.csv\n",
            "저장 완료: /content/drive/MyDrive/24-1/비주얼라이제이션/240506 test/색상 추출 파일/3대 지선 기초 새천년민주당_all_data_with_party_color.csv\n",
            "저장 완료: /content/drive/MyDrive/24-1/비주얼라이제이션/240506 test/색상 추출 파일/3대 지선 기초 한나라당_all_data_with_party_color.csv\n"
          ]
        }
      ]
    },
    {
      "cell_type": "markdown",
      "source": [
        "## 단순 유클리드 거리 사용 인접 색상 판단"
      ],
      "metadata": {
        "id": "GOP9Q_jVT2Fx"
      }
    },
    {
      "cell_type": "markdown",
      "source": [
        "### max distance = 50"
      ],
      "metadata": {
        "id": "njPn_ZtAUOPV"
      }
    },
    {
      "cell_type": "code",
      "source": [
        "import ast\n",
        "import pandas as pd\n",
        "import math\n",
        "\n",
        "def color_distance(rgb1, rgb2):\n",
        "    \"\"\"\n",
        "    두 RGB 값 간의 유클리드 거리를 계산하여 색상 유사도를 측정하는 함수.\n",
        "    rgb1: 비교 대상 1 (tuple) -> color_vote_data의 Color Code 1\n",
        "    rgb2: 비교 대상 2 (tuple) -> 정당별 대표색\n",
        "    \"\"\"\n",
        "    return math.sqrt(sum((c1 - c2) ** 2 for c1, c2 in zip(rgb1, rgb2)))\n",
        "\n",
        "def is_similar_color(rgb1, rgb2, max_distance):\n",
        "    \"\"\"\n",
        "    유클리드 거리가 max_distance 이하이면 유사하다고 판단.\n",
        "    \"\"\"\n",
        "    return color_distance(rgb1, rgb2) <= max_distance\n",
        "\n",
        "# 여러 파일에 대해 작업\n",
        "for name in dir_list:\n",
        "    directory = output_folder + name\n",
        "    color_vote_path = directory + \"_all_data_with_party_color.csv\"\n",
        "\n",
        "    # color_vote_data 파일 불러오기\n",
        "    data = pd.read_csv(color_vote_path, encoding='utf-8')\n",
        "\n",
        "    # 새로운 열을 추가하기 위한 준비\n",
        "    results = []\n",
        "\n",
        "    # 각 행에 대해 Color Code 1과 party color의 비교\n",
        "    for index, row in data.iterrows():\n",
        "        color_code_1_rgb = ast.literal_eval(row['Color Code 1'])  # Color Code 1의 RGB 값 추출\n",
        "        party_rgb = ast.literal_eval(row['party color'])  # Party color의 RGB 값 추출\n",
        "\n",
        "        # 유클리드 거리를 사용하여 비교\n",
        "        if is_similar_color(color_code_1_rgb, party_rgb, max_distance=50):  # max_distance 값을 조정할 수 있습니다\n",
        "            results.append('O')\n",
        "        else:\n",
        "            results.append('X')\n",
        "\n",
        "    # 결과를 새로운 열에 추가\n",
        "    data['simple comparison 50'] = results\n",
        "\n",
        "    # 수정된 CSV 파일 저장 (덮어쓰기)\n",
        "    data.to_csv(color_vote_path, index=False, encoding='utf-8-sig')\n",
        "    print(f\"저장 완료: {color_vote_path}\")"
      ],
      "metadata": {
        "id": "AdEPXN5Y8QS2"
      },
      "execution_count": null,
      "outputs": []
    },
    {
      "cell_type": "code",
      "source": [
        "import ast\n",
        "import matplotlib.pyplot as plt\n",
        "import matplotlib.patches as patches\n",
        "import pandas as pd\n",
        "\n",
        "# O 개수와 퍼센트 계산 및 색상띠 출력\n",
        "\n",
        "for name in dir_list:\n",
        "    directory = output_folder + name\n",
        "    color_vote_path = directory + \"_all_data_with_party_color.csv\"\n",
        "\n",
        "    # CSV 파일 불러오기\n",
        "    data = pd.read_csv(color_vote_path, encoding='utf-8')\n",
        "\n",
        "    # simple comparison 50에서 'O'의 개수 세기\n",
        "    O_count = (data['simple comparison 50'] == 'O').sum()\n",
        "    O_percentage = (O_count / len(data)) * 100 if len(data) > 0 else 0\n",
        "\n",
        "    # 개별 파일 결과 출력\n",
        "    print(f\"{name}의 정당색 사용 벽보 개수 (유사도): {O_count}, 정당색 사용 비율 (유사도): {O_percentage:.2f}%\")\n",
        "\n",
        "    # simple comparison 50에서 'O' 값인 행들의 Color Code 1 RGB 추출\n",
        "    O_data = data[data['simple comparison 50'] == 'O']['Color Code 1'].apply(ast.literal_eval)\n",
        "\n",
        "    # 정당의 party_color 추출\n",
        "    party_rgb = ast.literal_eval(data['party color'].iloc[0])  # 모든 행에서 동일한 party color를 가져옴\n",
        "    party_color = tuple(c / 255 for c in party_rgb)  # 정당의 대표색을 0-1 사이로 정규화\n",
        "\n",
        "    # 색상띠를 만들기 위한 플롯 설정\n",
        "    if len(O_data) > 0:  # 'O' 값이 있을 때만 색상띠 출력\n",
        "        fig, ax = plt.subplots(figsize=(10, 4), dpi=100)  # 전체 플롯 크기 조정\n",
        "        ax.set_xlim(0, len(O_data))\n",
        "        ax.set_ylim(0, 2)  # 두 개의 띠를 표시하기 위해 세로 높이 2로 설정\n",
        "        ax.axis('off')  # 축 표시 제거\n",
        "\n",
        "        # 첫 번째 색상띠 (유사한 색상들)\n",
        "        for i, rgb in enumerate(O_data):\n",
        "            color = tuple(c / 255 for c in rgb)  # RGB 값을 0-1 사이로 정규화\n",
        "            rect = patches.Rectangle((i, 1), 1, 1, facecolor=color)  # 상단에 유사한 색상 표시\n",
        "            ax.add_patch(rect)\n",
        "\n",
        "        # 두 번째 색상띠 (정당의 대표색)\n",
        "        for i in range(len(O_data)):  # 아래에 동일한 party_color로 띠를 표시\n",
        "            rect = patches.Rectangle((i, 0), 1, 1, facecolor=party_color)\n",
        "            ax.add_patch(rect)\n",
        "\n",
        "        # 색상띠 표시\n",
        "        plt.show()\n",
        "        plt.close(fig)\n",
        "    else:\n",
        "        print(f\"{name}: 정당색을 사용한 벽보 없음.\")"
      ],
      "metadata": {
        "colab": {
          "base_uri": "https://localhost:8080/",
          "height": 1000
        },
        "id": "QhBA5-KpTPgW",
        "outputId": "32788356-9ca8-4cb9-8bc6-227c5c24db2f"
      },
      "execution_count": null,
      "outputs": [
        {
          "output_type": "stream",
          "name": "stdout",
          "text": [
            "21대 총선 더불어민주당의 정당색 사용 벽보 개수 (유사도): 45, 정당색 사용 비율 (유사도): 18.07%\n"
          ]
        },
        {
          "output_type": "display_data",
          "data": {
            "text/plain": [
              "<Figure size 1000x400 with 1 Axes>"
            ],
            "image/png": "[encoded data removed]"
          },
          "metadata": {}
        },
        {
          "output_type": "stream",
          "name": "stdout",
          "text": [
            "21대 총선 미래통합당의 정당색 사용 벽보 개수 (유사도): 21, 정당색 사용 비율 (유사도): 8.90%\n"
          ]
        },
        {
          "output_type": "display_data",
          "data": {
            "text/plain": [
              "<Figure size 1000x400 with 1 Axes>"
            ],
            "image/png": "[encoded data removed]"
          },
          "metadata": {}
        },
        {
          "output_type": "stream",
          "name": "stdout",
          "text": [
            "20대 총선 더불어민주당의 정당색 사용 벽보 개수 (유사도): 19, 정당색 사용 비율 (유사도): 8.37%\n"
          ]
        },
        {
          "output_type": "display_data",
          "data": {
            "text/plain": [
              "<Figure size 1000x400 with 1 Axes>"
            ],
            "image/png": "[encoded data removed]"
          },
          "metadata": {}
        },
        {
          "output_type": "stream",
          "name": "stdout",
          "text": [
            "20대 총선 새누리당의 정당색 사용 벽보 개수 (유사도): 19, 정당색 사용 비율 (유사도): 7.76%\n"
          ]
        },
        {
          "output_type": "display_data",
          "data": {
            "text/plain": [
              "<Figure size 1000x400 with 1 Axes>"
            ],
            "image/png": "[encoded data removed]"
          },
          "metadata": {}
        },
        {
          "output_type": "stream",
          "name": "stdout",
          "text": [
            "19대 총선 민주통합당의 정당색 사용 벽보 개수 (유사도): 27, 정당색 사용 비율 (유사도): 13.50%\n"
          ]
        },
        {
          "output_type": "display_data",
          "data": {
            "text/plain": [
              "<Figure size 1000x400 with 1 Axes>"
            ],
            "image/png": "[encoded data removed]"
          },
          "metadata": {}
        },
        {
          "output_type": "stream",
          "name": "stdout",
          "text": [
            "19대 총선 새누리당의 정당색 사용 벽보 개수 (유사도): 5, 정당색 사용 비율 (유사도): 2.26%\n"
          ]
        },
        {
          "output_type": "display_data",
          "data": {
            "text/plain": [
              "<Figure size 1000x400 with 1 Axes>"
            ],
            "image/png": "[encoded data removed]"
          },
          "metadata": {}
        },
        {
          "output_type": "stream",
          "name": "stdout",
          "text": [
            "18대 총선 통합민주당의 정당색 사용 벽보 개수 (유사도): 10, 정당색 사용 비율 (유사도): 5.26%\n"
          ]
        },
        {
          "output_type": "display_data",
          "data": {
            "text/plain": [
              "<Figure size 1000x400 with 1 Axes>"
            ],
            "image/png": "[encoded data removed]"
          },
          "metadata": {}
        },
        {
          "output_type": "stream",
          "name": "stdout",
          "text": [
            "18대 총선 한나라당의 정당색 사용 벽보 개수 (유사도): 23, 정당색 사용 비율 (유사도): 9.47%\n"
          ]
        },
        {
          "output_type": "display_data",
          "data": {
            "text/plain": [
              "<Figure size 1000x400 with 1 Axes>"
            ],
            "image/png": "[encoded data removed]"
          },
          "metadata": {}
        },
        {
          "output_type": "stream",
          "name": "stdout",
          "text": [
            "17대 총선 열린우리당의 정당색 사용 벽보 개수 (유사도): 0, 정당색 사용 비율 (유사도): 0.00%\n",
            "17대 총선 열린우리당: 정당색을 사용한 벽보 없음.\n",
            "17대 총선 한나라당의 정당색 사용 벽보 개수 (유사도): 0, 정당색 사용 비율 (유사도): 0.00%\n",
            "17대 총선 한나라당: 정당색을 사용한 벽보 없음.\n",
            "16대 총선 새천년민주당의 정당색 사용 벽보 개수 (유사도): 0, 정당색 사용 비율 (유사도): 0.00%\n",
            "16대 총선 새천년민주당: 정당색을 사용한 벽보 없음.\n",
            "16대 총선 한나라당의 정당색 사용 벽보 개수 (유사도): 0, 정당색 사용 비율 (유사도): 0.00%\n",
            "16대 총선 한나라당: 정당색을 사용한 벽보 없음.\n",
            "8대 지선 기초 더불어민주당의 정당색 사용 벽보 개수 (유사도): 6, 정당색 사용 비율 (유사도): 3.19%\n"
          ]
        },
        {
          "output_type": "display_data",
          "data": {
            "text/plain": [
              "<Figure size 1000x400 with 1 Axes>"
            ],
            "image/png": "[encoded data removed]"
          },
          "metadata": {}
        },
        {
          "output_type": "stream",
          "name": "stdout",
          "text": [
            "8대 지선 기초 국민의힘의 정당색 사용 벽보 개수 (유사도): 14, 정당색 사용 비율 (유사도): 7.73%\n"
          ]
        },
        {
          "output_type": "display_data",
          "data": {
            "text/plain": [
              "<Figure size 1000x400 with 1 Axes>"
            ],
            "image/png": "[encoded data removed]"
          },
          "metadata": {}
        },
        {
          "output_type": "stream",
          "name": "stdout",
          "text": [
            "7대 지선 기초 더불어민주당의 정당색 사용 벽보 개수 (유사도): 14, 정당색 사용 비율 (유사도): 6.90%\n"
          ]
        },
        {
          "output_type": "display_data",
          "data": {
            "text/plain": [
              "<Figure size 1000x400 with 1 Axes>"
            ],
            "image/png": "[encoded data removed]"
          },
          "metadata": {}
        },
        {
          "output_type": "stream",
          "name": "stdout",
          "text": [
            "7대 지선 기초 자유한국당의 정당색 사용 벽보 개수 (유사도): 3, 정당색 사용 비율 (유사도): 1.73%\n"
          ]
        },
        {
          "output_type": "display_data",
          "data": {
            "text/plain": [
              "<Figure size 1000x400 with 1 Axes>"
            ],
            "image/png": "[encoded data removed]"
          },
          "metadata": {}
        },
        {
          "output_type": "stream",
          "name": "stdout",
          "text": [
            "6대 지선 기초 새정치민주연합의 정당색 사용 벽보 개수 (유사도): 13, 정당색 사용 비율 (유사도): 7.93%\n"
          ]
        },
        {
          "output_type": "display_data",
          "data": {
            "text/plain": [
              "<Figure size 1000x400 with 1 Axes>"
            ],
            "image/png": "[encoded data removed]"
          },
          "metadata": {}
        },
        {
          "output_type": "stream",
          "name": "stdout",
          "text": [
            "6대 지선 기초 새누리당의 정당색 사용 벽보 개수 (유사도): 22, 정당색 사용 비율 (유사도): 12.02%\n"
          ]
        },
        {
          "output_type": "display_data",
          "data": {
            "text/plain": [
              "<Figure size 1000x400 with 1 Axes>"
            ],
            "image/png": "[encoded data removed]"
          },
          "metadata": {}
        },
        {
          "output_type": "stream",
          "name": "stdout",
          "text": [
            "5대 지선 기초 민주당의 정당색 사용 벽보 개수 (유사도): 0, 정당색 사용 비율 (유사도): 0.00%\n",
            "5대 지선 기초 민주당: 정당색을 사용한 벽보 없음.\n",
            "5대 지선 기초 한나라당의 정당색 사용 벽보 개수 (유사도): 6, 정당색 사용 비율 (유사도): 3.45%\n"
          ]
        },
        {
          "output_type": "display_data",
          "data": {
            "text/plain": [
              "<Figure size 1000x400 with 1 Axes>"
            ],
            "image/png": "[encoded data removed]"
          },
          "metadata": {}
        },
        {
          "output_type": "stream",
          "name": "stdout",
          "text": [
            "4대 지선 기초 열린우리당의 정당색 사용 벽보 개수 (유사도): 4, 정당색 사용 비율 (유사도): 2.27%\n"
          ]
        },
        {
          "output_type": "display_data",
          "data": {
            "text/plain": [
              "<Figure size 1000x400 with 1 Axes>"
            ],
            "image/png": "[encoded data removed]"
          },
          "metadata": {}
        },
        {
          "output_type": "stream",
          "name": "stdout",
          "text": [
            "4대 지선 기초 한나라당의 정당색 사용 벽보 개수 (유사도): 1, 정당색 사용 비율 (유사도): 0.53%\n"
          ]
        },
        {
          "output_type": "display_data",
          "data": {
            "text/plain": [
              "<Figure size 1000x400 with 1 Axes>"
            ],
            "image/png": "[encoded data removed]"
          },
          "metadata": {}
        },
        {
          "output_type": "stream",
          "name": "stdout",
          "text": [
            "3대 지선 기초 새천년민주당의 정당색 사용 벽보 개수 (유사도): 0, 정당색 사용 비율 (유사도): 0.00%\n",
            "3대 지선 기초 새천년민주당: 정당색을 사용한 벽보 없음.\n",
            "3대 지선 기초 한나라당의 정당색 사용 벽보 개수 (유사도): 0, 정당색 사용 비율 (유사도): 0.00%\n",
            "3대 지선 기초 한나라당: 정당색을 사용한 벽보 없음.\n"
          ]
        }
      ]
    },
    {
      "cell_type": "markdown",
      "source": [
        "### max distance = 75"
      ],
      "metadata": {
        "id": "46XQ_wK3UVlt"
      }
    },
    {
      "cell_type": "code",
      "source": [
        "for name in dir_list:\n",
        "    directory = output_folder + name\n",
        "    color_vote_path = directory + \"_all_data_with_party_color.csv\"\n",
        "\n",
        "    # color_vote_data 파일 불러오기\n",
        "    data = pd.read_csv(color_vote_path, encoding='utf-8')\n",
        "\n",
        "    # 새로운 열을 추가하기 위한 준비\n",
        "    results = []\n",
        "\n",
        "    # 각 행에 대해 Color Code 1과 party color의 비교\n",
        "    for index, row in data.iterrows():\n",
        "        color_code_1_rgb = ast.literal_eval(row['Color Code 1'])  # Color Code 1의 RGB 값 추출\n",
        "        party_rgb = ast.literal_eval(row['party color'])  # Party color의 RGB 값 추출\n",
        "\n",
        "        # 유클리드 거리를 사용하여 비교\n",
        "        if is_similar_color(color_code_1_rgb, party_rgb, max_distance=75):  # max_distance 값을 조정할 수 있습니다\n",
        "            results.append('O')\n",
        "        else:\n",
        "            results.append('X')\n",
        "\n",
        "    # 결과를 새로운 열에 추가\n",
        "    data['simple comparison 75'] = results\n",
        "\n",
        "    # 수정된 CSV 파일 저장 (덮어쓰기)\n",
        "    data.to_csv(color_vote_path, index=False, encoding='utf-8-sig')\n",
        "    print(f\"저장 완료: {color_vote_path}\")"
      ],
      "metadata": {
        "id": "GusMmn-FUde-"
      },
      "execution_count": null,
      "outputs": []
    },
    {
      "cell_type": "code",
      "source": [
        "import ast\n",
        "import matplotlib.pyplot as plt\n",
        "import matplotlib.patches as patches\n",
        "import pandas as pd\n",
        "\n",
        "# O 개수와 퍼센트 계산 및 색상띠 출력\n",
        "\n",
        "for name in dir_list:\n",
        "    directory = output_folder + name\n",
        "    color_vote_path = directory + \"_all_data_with_party_color.csv\"\n",
        "\n",
        "    # CSV 파일 불러오기\n",
        "    data = pd.read_csv(color_vote_path, encoding='utf-8')\n",
        "\n",
        "    # simple comparison 75에서 'O'의 개수 세기\n",
        "    O_count = (data['simple comparison 75'] == 'O').sum()\n",
        "    O_percentage = (O_count / len(data)) * 100 if len(data) > 0 else 0\n",
        "\n",
        "    # 개별 파일 결과 출력\n",
        "    print(f\"{name}의 정당색 사용 벽보 개수 (유사도): {O_count}, 정당색 사용 비율 (유사도): {O_percentage:.2f}%\")\n",
        "\n",
        "    # simple comparison 75에서 'O' 값인 행들의 Color Code 1 RGB 추출\n",
        "    O_data = data[data['simple comparison 75'] == 'O']['Color Code 1'].apply(ast.literal_eval)\n",
        "\n",
        "    # 정당의 party_color 추출\n",
        "    party_rgb = ast.literal_eval(data['party color'].iloc[0])  # 모든 행에서 동일한 party color를 가져옴\n",
        "    party_color = tuple(c / 255 for c in party_rgb)  # 정당의 대표색을 0-1 사이로 정규화\n",
        "\n",
        "    # 색상띠를 만들기 위한 플롯 설정\n",
        "    if len(O_data) > 0:  # 'O' 값이 있을 때만 색상띠 출력\n",
        "        fig, ax = plt.subplots(figsize=(10, 4), dpi=100)  # 전체 플롯 크기 조정\n",
        "        ax.set_xlim(0, len(O_data))\n",
        "        ax.set_ylim(0, 2)  # 두 개의 띠를 표시하기 위해 세로 높이 2로 설정\n",
        "        ax.axis('off')  # 축 표시 제거\n",
        "\n",
        "        # 첫 번째 색상띠 (유사한 색상들)\n",
        "        for i, rgb in enumerate(O_data):\n",
        "            color = tuple(c / 255 for c in rgb)  # RGB 값을 0-1 사이로 정규화\n",
        "            rect = patches.Rectangle((i, 1), 1, 1, facecolor=color)  # 상단에 유사한 색상 표시\n",
        "            ax.add_patch(rect)\n",
        "\n",
        "        # 두 번째 색상띠 (정당의 대표색)\n",
        "        for i in range(len(O_data)):  # 아래에 동일한 party_color로 띠를 표시\n",
        "            rect = patches.Rectangle((i, 0), 1, 1, facecolor=party_color)\n",
        "            ax.add_patch(rect)\n",
        "\n",
        "        # 색상띠 표시\n",
        "        plt.show()\n",
        "        plt.close(fig)\n",
        "    else:\n",
        "        print(f\"{name}: 정당색을 사용한 벽보 없음.\")"
      ],
      "metadata": {
        "colab": {
          "base_uri": "https://localhost:8080/",
          "height": 1000
        },
        "id": "beEEx6ElXqM0",
        "outputId": "0f42741c-6ddc-4bc2-bcfc-526c53705f9c"
      },
      "execution_count": null,
      "outputs": [
        {
          "output_type": "stream",
          "name": "stdout",
          "text": [
            "21대 총선 더불어민주당의 정당색 사용 벽보 개수 (유사도): 77, 정당색 사용 비율 (유사도): 30.92%\n"
          ]
        },
        {
          "output_type": "display_data",
          "data": {
            "text/plain": [
              "<Figure size 1000x400 with 1 Axes>"
            ],
            "image/png": "[encoded data removed]"
          },
          "metadata": {}
        },
        {
          "output_type": "stream",
          "name": "stdout",
          "text": [
            "21대 총선 미래통합당의 정당색 사용 벽보 개수 (유사도): 57, 정당색 사용 비율 (유사도): 24.15%\n"
          ]
        },
        {
          "output_type": "display_data",
          "data": {
            "text/plain": [
              "<Figure size 1000x400 with 1 Axes>"
            ],
            "image/png": "[encoded data removed]"
          },
          "metadata": {}
        },
        {
          "output_type": "stream",
          "name": "stdout",
          "text": [
            "20대 총선 더불어민주당의 정당색 사용 벽보 개수 (유사도): 52, 정당색 사용 비율 (유사도): 22.91%\n"
          ]
        },
        {
          "output_type": "display_data",
          "data": {
            "text/plain": [
              "<Figure size 1000x400 with 1 Axes>"
            ],
            "image/png": "[encoded data removed]"
          },
          "metadata": {}
        },
        {
          "output_type": "stream",
          "name": "stdout",
          "text": [
            "20대 총선 새누리당의 정당색 사용 벽보 개수 (유사도): 27, 정당색 사용 비율 (유사도): 11.02%\n"
          ]
        },
        {
          "output_type": "display_data",
          "data": {
            "text/plain": [
              "<Figure size 1000x400 with 1 Axes>"
            ],
            "image/png": "[encoded data removed]"
          },
          "metadata": {}
        },
        {
          "output_type": "stream",
          "name": "stdout",
          "text": [
            "19대 총선 민주통합당의 정당색 사용 벽보 개수 (유사도): 50, 정당색 사용 비율 (유사도): 25.00%\n"
          ]
        },
        {
          "output_type": "display_data",
          "data": {
            "text/plain": [
              "<Figure size 1000x400 with 1 Axes>"
            ],
            "image/png": "[encoded data removed]"
          },
          "metadata": {}
        },
        {
          "output_type": "stream",
          "name": "stdout",
          "text": [
            "19대 총선 새누리당의 정당색 사용 벽보 개수 (유사도): 6, 정당색 사용 비율 (유사도): 2.71%\n"
          ]
        },
        {
          "output_type": "display_data",
          "data": {
            "text/plain": [
              "<Figure size 1000x400 with 1 Axes>"
            ],
            "image/png": "[encoded data removed]"
          },
          "metadata": {}
        },
        {
          "output_type": "stream",
          "name": "stdout",
          "text": [
            "18대 총선 통합민주당의 정당색 사용 벽보 개수 (유사도): 26, 정당색 사용 비율 (유사도): 13.68%\n"
          ]
        },
        {
          "output_type": "display_data",
          "data": {
            "text/plain": [
              "<Figure size 1000x400 with 1 Axes>"
            ],
            "image/png": "[encoded data removed]"
          },
          "metadata": {}
        },
        {
          "output_type": "stream",
          "name": "stdout",
          "text": [
            "18대 총선 한나라당의 정당색 사용 벽보 개수 (유사도): 68, 정당색 사용 비율 (유사도): 27.98%\n"
          ]
        },
        {
          "output_type": "display_data",
          "data": {
            "text/plain": [
              "<Figure size 1000x400 with 1 Axes>"
            ],
            "image/png": "[encoded data removed]"
          },
          "metadata": {}
        },
        {
          "output_type": "stream",
          "name": "stdout",
          "text": [
            "17대 총선 열린우리당의 정당색 사용 벽보 개수 (유사도): 7, 정당색 사용 비율 (유사도): 2.93%\n"
          ]
        },
        {
          "output_type": "display_data",
          "data": {
            "text/plain": [
              "<Figure size 1000x400 with 1 Axes>"
            ],
            "image/png": "[encoded data removed]"
          },
          "metadata": {}
        },
        {
          "output_type": "stream",
          "name": "stdout",
          "text": [
            "17대 총선 한나라당의 정당색 사용 벽보 개수 (유사도): 0, 정당색 사용 비율 (유사도): 0.00%\n",
            "17대 총선 한나라당: 정당색을 사용한 벽보 없음.\n",
            "16대 총선 새천년민주당의 정당색 사용 벽보 개수 (유사도): 0, 정당색 사용 비율 (유사도): 0.00%\n",
            "16대 총선 새천년민주당: 정당색을 사용한 벽보 없음.\n",
            "16대 총선 한나라당의 정당색 사용 벽보 개수 (유사도): 0, 정당색 사용 비율 (유사도): 0.00%\n",
            "16대 총선 한나라당: 정당색을 사용한 벽보 없음.\n",
            "8대 지선 기초 더불어민주당의 정당색 사용 벽보 개수 (유사도): 21, 정당색 사용 비율 (유사도): 11.17%\n"
          ]
        },
        {
          "output_type": "display_data",
          "data": {
            "text/plain": [
              "<Figure size 1000x400 with 1 Axes>"
            ],
            "image/png": "[encoded data removed]"
          },
          "metadata": {}
        },
        {
          "output_type": "stream",
          "name": "stdout",
          "text": [
            "8대 지선 기초 국민의힘의 정당색 사용 벽보 개수 (유사도): 15, 정당색 사용 비율 (유사도): 8.29%\n"
          ]
        },
        {
          "output_type": "display_data",
          "data": {
            "text/plain": [
              "<Figure size 1000x400 with 1 Axes>"
            ],
            "image/png": "[encoded data removed]"
          },
          "metadata": {}
        },
        {
          "output_type": "stream",
          "name": "stdout",
          "text": [
            "7대 지선 기초 더불어민주당의 정당색 사용 벽보 개수 (유사도): 27, 정당색 사용 비율 (유사도): 13.30%\n"
          ]
        },
        {
          "output_type": "display_data",
          "data": {
            "text/plain": [
              "<Figure size 1000x400 with 1 Axes>"
            ],
            "image/png": "[encoded data removed]"
          },
          "metadata": {}
        },
        {
          "output_type": "stream",
          "name": "stdout",
          "text": [
            "7대 지선 기초 자유한국당의 정당색 사용 벽보 개수 (유사도): 14, 정당색 사용 비율 (유사도): 8.09%\n"
          ]
        },
        {
          "output_type": "display_data",
          "data": {
            "text/plain": [
              "<Figure size 1000x400 with 1 Axes>"
            ],
            "image/png": "[encoded data removed]"
          },
          "metadata": {}
        },
        {
          "output_type": "stream",
          "name": "stdout",
          "text": [
            "6대 지선 기초 새정치민주연합의 정당색 사용 벽보 개수 (유사도): 49, 정당색 사용 비율 (유사도): 29.88%\n"
          ]
        },
        {
          "output_type": "display_data",
          "data": {
            "text/plain": [
              "<Figure size 1000x400 with 1 Axes>"
            ],
            "image/png": "[encoded data removed]"
          },
          "metadata": {}
        },
        {
          "output_type": "stream",
          "name": "stdout",
          "text": [
            "6대 지선 기초 새누리당의 정당색 사용 벽보 개수 (유사도): 27, 정당색 사용 비율 (유사도): 14.75%\n"
          ]
        },
        {
          "output_type": "display_data",
          "data": {
            "text/plain": [
              "<Figure size 1000x400 with 1 Axes>"
            ],
            "image/png": "[encoded data removed]"
          },
          "metadata": {}
        },
        {
          "output_type": "stream",
          "name": "stdout",
          "text": [
            "5대 지선 기초 민주당의 정당색 사용 벽보 개수 (유사도): 0, 정당색 사용 비율 (유사도): 0.00%\n",
            "5대 지선 기초 민주당: 정당색을 사용한 벽보 없음.\n",
            "5대 지선 기초 한나라당의 정당색 사용 벽보 개수 (유사도): 23, 정당색 사용 비율 (유사도): 13.22%\n"
          ]
        },
        {
          "output_type": "display_data",
          "data": {
            "text/plain": [
              "<Figure size 1000x400 with 1 Axes>"
            ],
            "image/png": "[encoded data removed]"
          },
          "metadata": {}
        },
        {
          "output_type": "stream",
          "name": "stdout",
          "text": [
            "4대 지선 기초 열린우리당의 정당색 사용 벽보 개수 (유사도): 15, 정당색 사용 비율 (유사도): 8.52%\n"
          ]
        },
        {
          "output_type": "display_data",
          "data": {
            "text/plain": [
              "<Figure size 1000x400 with 1 Axes>"
            ],
            "image/png": "[encoded data removed]"
          },
          "metadata": {}
        },
        {
          "output_type": "stream",
          "name": "stdout",
          "text": [
            "4대 지선 기초 한나라당의 정당색 사용 벽보 개수 (유사도): 14, 정당색 사용 비율 (유사도): 7.41%\n"
          ]
        },
        {
          "output_type": "display_data",
          "data": {
            "text/plain": [
              "<Figure size 1000x400 with 1 Axes>"
            ],
            "image/png": "[encoded data removed]"
          },
          "metadata": {}
        },
        {
          "output_type": "stream",
          "name": "stdout",
          "text": [
            "3대 지선 기초 새천년민주당의 정당색 사용 벽보 개수 (유사도): 0, 정당색 사용 비율 (유사도): 0.00%\n",
            "3대 지선 기초 새천년민주당: 정당색을 사용한 벽보 없음.\n",
            "3대 지선 기초 한나라당의 정당색 사용 벽보 개수 (유사도): 1, 정당색 사용 비율 (유사도): 0.59%\n"
          ]
        },
        {
          "output_type": "display_data",
          "data": {
            "text/plain": [
              "<Figure size 1000x400 with 1 Axes>"
            ],
            "image/png": "[encoded data removed]"
          },
          "metadata": {}
        }
      ]
    },
    {
      "cell_type": "markdown",
      "source": [
        "## 가중 유클리드 거리 사용 인접 색상 판단"
      ],
      "metadata": {
        "id": "W2pewsmcUAIp"
      }
    },
    {
      "cell_type": "code",
      "source": [
        "import ast\n",
        "import pandas as pd\n",
        "import math\n",
        "\n",
        "def color_distance_weighted(rgb1, rgb2, weights=(1, 1, 1)):\n",
        "    \"\"\"\n",
        "    두 RGB 값 간의 유클리드 거리를 계산하되, 각 채널에 가중치를 부여하여 유사도를 측정하는 함수.\n",
        "    weights: (R, G, B) 가중치\n",
        "    \"\"\"\n",
        "    return math.sqrt(sum(weights[i] * (c1 - c2) ** 2 for i, (c1, c2) in enumerate(zip(rgb1, rgb2))))\n",
        "\n",
        "def get_color_weights(party_rgb):\n",
        "    \"\"\"\n",
        "    정당색을 기준으로 가중치를 결정하는 함수.\n",
        "    예를 들어, G 값이 크면 녹색 계열로 판단하여 G 값에 더 높은 가중치를 부여.\n",
        "    \"\"\"\n",
        "    r, g, b = party_rgb\n",
        "\n",
        "    if g > r and g > b:  # 녹색 계열\n",
        "        return (0.5, 2, 0.5)  # G에 더 높은 가중치\n",
        "    elif b > r and b > g:  # 파란색 계열\n",
        "        return (0.5, 0.5, 2)  # B에 더 높은 가중치\n",
        "    else:  # 다른 계열 (예: 빨간색)\n",
        "        return (2, 0.5, 0.5)  # R에 더 높은 가중치\n",
        "\n",
        "def is_similar_color_weighted(rgb1, rgb2, max_distance=75):\n",
        "    \"\"\"\n",
        "    가중치를 적용한 유클리드 거리를 사용하여 유사도를 판단.\n",
        "    \"\"\"\n",
        "    weights = get_color_weights(rgb2)  # 기준 색상인 party_rgb에 따라 가중치 결정\n",
        "    return color_distance_weighted(rgb1, rgb2, weights) <= max_distance\n",
        "\n",
        "# 가중치 적용 유클리드 거리를 이용해 유사도 평가\n",
        "for name in dir_list:\n",
        "    directory = output_folder + name\n",
        "    color_vote_path = directory + \"_all_data_with_party_color.csv\"\n",
        "\n",
        "    # color_vote_data 파일 불러오기\n",
        "    data = pd.read_csv(color_vote_path, encoding='utf-8')\n",
        "\n",
        "    # 새로운 열을 추가하기 위한 준비\n",
        "    weighted_results = []\n",
        "\n",
        "    # 각 행에 대해 Color Code 1과 party color의 비교\n",
        "    for index, row in data.iterrows():\n",
        "        color_code_1_rgb = ast.literal_eval(row['Color Code 1'])  # Color Code 1의 RGB 값 추출\n",
        "        party_rgb = ast.literal_eval(row['party color'])  # Party color의 RGB 값 추출\n",
        "\n",
        "        # 가중치를 적용한 유클리드 거리를 사용하여 비교\n",
        "        if is_similar_color_weighted(color_code_1_rgb, party_rgb, max_distance=100):\n",
        "            weighted_results.append('O')\n",
        "        else:\n",
        "            weighted_results.append('X')\n",
        "\n",
        "    # 기존의 'simple_comparison'은 그대로 두고, 새로운 열 'weighted comparison'에 결과 추가\n",
        "    data['weighted comparison 75'] = weighted_results\n",
        "\n",
        "    # 수정된 CSV 파일 저장 (덮어쓰기)\n",
        "    data.to_csv(color_vote_path, index=False, encoding='utf-8-sig')\n",
        "    print(f\"저장 완료: {color_vote_path}\")"
      ],
      "metadata": {
        "id": "iO5Kx-D-FtGG"
      },
      "execution_count": null,
      "outputs": []
    },
    {
      "cell_type": "code",
      "source": [
        "import ast\n",
        "import matplotlib.pyplot as plt\n",
        "import matplotlib.patches as patches\n",
        "import pandas as pd\n",
        "\n",
        "# O 개수와 퍼센트 계산 및 색상띠 출력\n",
        "\n",
        "for name in dir_list:\n",
        "    directory = output_folder + name\n",
        "    color_vote_path = directory + \"_all_data_with_party_color.csv\"\n",
        "\n",
        "    # CSV 파일 불러오기\n",
        "    data = pd.read_csv(color_vote_path, encoding='utf-8')\n",
        "\n",
        "    # weighted comparison 75 에서 'O'의 개수 세기\n",
        "    O_count = (data['weighted comparison 75'] == 'O').sum()\n",
        "    O_percentage = (O_count / len(data)) * 100 if len(data) > 0 else 0\n",
        "\n",
        "    # 개별 파일 결과 출력\n",
        "    print(f\"{name}의 정당색 사용 벽보 개수 (가중치 유사도): {O_count}, 정당색 사용 비율 (가중치 유사도): {O_percentage:.2f}%\")\n",
        "\n",
        "    # weighted comparison 75에서 'O' 값인 행들의 Color Code 1 RGB 추출\n",
        "    O_data = data[data['weighted comparison 75'] == 'O']['Color Code 1'].apply(ast.literal_eval)\n",
        "\n",
        "    # 정당의 party_color 추출\n",
        "    party_rgb = ast.literal_eval(data['party color'].iloc[0])  # 모든 행에서 동일한 party color를 가져옴\n",
        "    party_color = tuple(c / 255 for c in party_rgb)  # 정당의 대표색을 0-1 사이로 정규화\n",
        "\n",
        "    # 색상띠를 만들기 위한 플롯 설정\n",
        "    if len(O_data) > 0:  # 'O' 값이 있을 때만 색상띠 출력\n",
        "        fig, ax = plt.subplots(figsize=(10, 4), dpi=100)  # 전체 플롯 크기 조정\n",
        "        ax.set_xlim(0, len(O_data))\n",
        "        ax.set_ylim(0, 2)  # 두 개의 띠를 표시하기 위해 세로 높이 2로 설정\n",
        "        ax.axis('off')  # 축 표시 제거\n",
        "\n",
        "        # 첫 번째 색상띠 (유사한 색상들)\n",
        "        for i, rgb in enumerate(O_data):\n",
        "            color = tuple(c / 255 for c in rgb)  # RGB 값을 0-1 사이로 정규화\n",
        "            rect = patches.Rectangle((i, 1), 1, 1, facecolor=color)  # 상단에 유사한 색상 표시\n",
        "            ax.add_patch(rect)\n",
        "\n",
        "        # 두 번째 색상띠 (정당의 대표색)\n",
        "        for i in range(len(O_data)):  # 아래에 동일한 party_color로 띠를 표시\n",
        "            rect = patches.Rectangle((i, 0), 1, 1, facecolor=party_color)\n",
        "            ax.add_patch(rect)\n",
        "\n",
        "        # 색상띠 표시\n",
        "        plt.show()\n",
        "        plt.close(fig)\n",
        "    else:\n",
        "        print(f\"{name}: 정당색을 사용한 벽보 없음.\")"
      ],
      "metadata": {
        "colab": {
          "base_uri": "https://localhost:8080/",
          "height": 1000
        },
        "id": "EBWukOboGFfP",
        "outputId": "cd75995c-c1ed-44f8-d6cf-3c2946d12d3f"
      },
      "execution_count": null,
      "outputs": [
        {
          "output_type": "stream",
          "name": "stdout",
          "text": [
            "21대 총선 더불어민주당의 정당색 사용 벽보 개수 (가중치 유사도): 95, 정당색 사용 비율 (가중치 유사도): 38.15%\n"
          ]
        },
        {
          "output_type": "display_data",
          "data": {
            "text/plain": [
              "<Figure size 1000x400 with 1 Axes>"
            ],
            "image/png": "[encoded data removed]"
          },
          "metadata": {}
        },
        {
          "output_type": "stream",
          "name": "stdout",
          "text": [
            "21대 총선 미래통합당의 정당색 사용 벽보 개수 (가중치 유사도): 61, 정당색 사용 비율 (가중치 유사도): 25.85%\n"
          ]
        },
        {
          "output_type": "display_data",
          "data": {
            "text/plain": [
              "<Figure size 1000x400 with 1 Axes>"
            ],
            "image/png": "[encoded data removed]"
          },
          "metadata": {}
        },
        {
          "output_type": "stream",
          "name": "stdout",
          "text": [
            "20대 총선 더불어민주당의 정당색 사용 벽보 개수 (가중치 유사도): 68, 정당색 사용 비율 (가중치 유사도): 29.96%\n"
          ]
        },
        {
          "output_type": "display_data",
          "data": {
            "text/plain": [
              "<Figure size 1000x400 with 1 Axes>"
            ],
            "image/png": "[encoded data removed]"
          },
          "metadata": {}
        },
        {
          "output_type": "stream",
          "name": "stdout",
          "text": [
            "20대 총선 새누리당의 정당색 사용 벽보 개수 (가중치 유사도): 28, 정당색 사용 비율 (가중치 유사도): 11.43%\n"
          ]
        },
        {
          "output_type": "display_data",
          "data": {
            "text/plain": [
              "<Figure size 1000x400 with 1 Axes>"
            ],
            "image/png": "[encoded data removed]"
          },
          "metadata": {}
        },
        {
          "output_type": "stream",
          "name": "stdout",
          "text": [
            "19대 총선 민주통합당의 정당색 사용 벽보 개수 (가중치 유사도): 63, 정당색 사용 비율 (가중치 유사도): 31.50%\n"
          ]
        },
        {
          "output_type": "display_data",
          "data": {
            "text/plain": [
              "<Figure size 1000x400 with 1 Axes>"
            ],
            "image/png": "[encoded data removed]"
          },
          "metadata": {}
        },
        {
          "output_type": "stream",
          "name": "stdout",
          "text": [
            "19대 총선 새누리당의 정당색 사용 벽보 개수 (가중치 유사도): 8, 정당색 사용 비율 (가중치 유사도): 3.62%\n"
          ]
        },
        {
          "output_type": "display_data",
          "data": {
            "text/plain": [
              "<Figure size 1000x400 with 1 Axes>"
            ],
            "image/png": "[encoded data removed]"
          },
          "metadata": {}
        },
        {
          "output_type": "stream",
          "name": "stdout",
          "text": [
            "18대 총선 통합민주당의 정당색 사용 벽보 개수 (가중치 유사도): 61, 정당색 사용 비율 (가중치 유사도): 32.11%\n"
          ]
        },
        {
          "output_type": "display_data",
          "data": {
            "text/plain": [
              "<Figure size 1000x400 with 1 Axes>"
            ],
            "image/png": "[encoded data removed]"
          },
          "metadata": {}
        },
        {
          "output_type": "stream",
          "name": "stdout",
          "text": [
            "18대 총선 한나라당의 정당색 사용 벽보 개수 (가중치 유사도): 106, 정당색 사용 비율 (가중치 유사도): 43.62%\n"
          ]
        },
        {
          "output_type": "display_data",
          "data": {
            "text/plain": [
              "<Figure size 1000x400 with 1 Axes>"
            ],
            "image/png": "[encoded data removed]"
          },
          "metadata": {}
        },
        {
          "output_type": "stream",
          "name": "stdout",
          "text": [
            "17대 총선 열린우리당의 정당색 사용 벽보 개수 (가중치 유사도): 50, 정당색 사용 비율 (가중치 유사도): 20.92%\n"
          ]
        },
        {
          "output_type": "display_data",
          "data": {
            "text/plain": [
              "<Figure size 1000x400 with 1 Axes>"
            ],
            "image/png": "[encoded data removed]"
          },
          "metadata": {}
        },
        {
          "output_type": "stream",
          "name": "stdout",
          "text": [
            "17대 총선 한나라당의 정당색 사용 벽보 개수 (가중치 유사도): 5, 정당색 사용 비율 (가중치 유사도): 2.30%\n"
          ]
        },
        {
          "output_type": "display_data",
          "data": {
            "text/plain": [
              "<Figure size 1000x400 with 1 Axes>"
            ],
            "image/png": "[encoded data removed]"
          },
          "metadata": {}
        },
        {
          "output_type": "stream",
          "name": "stdout",
          "text": [
            "16대 총선 새천년민주당의 정당색 사용 벽보 개수 (가중치 유사도): 4, 정당색 사용 비율 (가중치 유사도): 1.87%\n"
          ]
        },
        {
          "output_type": "display_data",
          "data": {
            "text/plain": [
              "<Figure size 1000x400 with 1 Axes>"
            ],
            "image/png": "[encoded data removed]"
          },
          "metadata": {}
        },
        {
          "output_type": "stream",
          "name": "stdout",
          "text": [
            "16대 총선 한나라당의 정당색 사용 벽보 개수 (가중치 유사도): 8, 정당색 사용 비율 (가중치 유사도): 3.59%\n"
          ]
        },
        {
          "output_type": "display_data",
          "data": {
            "text/plain": [
              "<Figure size 1000x400 with 1 Axes>"
            ],
            "image/png": "[encoded data removed]"
          },
          "metadata": {}
        },
        {
          "output_type": "stream",
          "name": "stdout",
          "text": [
            "8대 지선 기초 더불어민주당의 정당색 사용 벽보 개수 (가중치 유사도): 24, 정당색 사용 비율 (가중치 유사도): 12.77%\n"
          ]
        },
        {
          "output_type": "display_data",
          "data": {
            "text/plain": [
              "<Figure size 1000x400 with 1 Axes>"
            ],
            "image/png": "[encoded data removed]"
          },
          "metadata": {}
        },
        {
          "output_type": "stream",
          "name": "stdout",
          "text": [
            "8대 지선 기초 국민의힘의 정당색 사용 벽보 개수 (가중치 유사도): 16, 정당색 사용 비율 (가중치 유사도): 8.84%\n"
          ]
        },
        {
          "output_type": "display_data",
          "data": {
            "text/plain": [
              "<Figure size 1000x400 with 1 Axes>"
            ],
            "image/png": "[encoded data removed]"
          },
          "metadata": {}
        },
        {
          "output_type": "stream",
          "name": "stdout",
          "text": [
            "7대 지선 기초 더불어민주당의 정당색 사용 벽보 개수 (가중치 유사도): 37, 정당색 사용 비율 (가중치 유사도): 18.23%\n"
          ]
        },
        {
          "output_type": "display_data",
          "data": {
            "text/plain": [
              "<Figure size 1000x400 with 1 Axes>"
            ],
            "image/png": "[encoded data removed]"
          },
          "metadata": {}
        },
        {
          "output_type": "stream",
          "name": "stdout",
          "text": [
            "7대 지선 기초 자유한국당의 정당색 사용 벽보 개수 (가중치 유사도): 14, 정당색 사용 비율 (가중치 유사도): 8.09%\n"
          ]
        },
        {
          "output_type": "display_data",
          "data": {
            "text/plain": [
              "<Figure size 1000x400 with 1 Axes>"
            ],
            "image/png": "[encoded data removed]"
          },
          "metadata": {}
        },
        {
          "output_type": "stream",
          "name": "stdout",
          "text": [
            "6대 지선 기초 새정치민주연합의 정당색 사용 벽보 개수 (가중치 유사도): 62, 정당색 사용 비율 (가중치 유사도): 37.80%\n"
          ]
        },
        {
          "output_type": "display_data",
          "data": {
            "text/plain": [
              "<Figure size 1000x400 with 1 Axes>"
            ],
            "image/png": "[encoded data removed]"
          },
          "metadata": {}
        },
        {
          "output_type": "stream",
          "name": "stdout",
          "text": [
            "6대 지선 기초 새누리당의 정당색 사용 벽보 개수 (가중치 유사도): 26, 정당색 사용 비율 (가중치 유사도): 14.21%\n"
          ]
        },
        {
          "output_type": "display_data",
          "data": {
            "text/plain": [
              "<Figure size 1000x400 with 1 Axes>"
            ],
            "image/png": "[encoded data removed]"
          },
          "metadata": {}
        },
        {
          "output_type": "stream",
          "name": "stdout",
          "text": [
            "5대 지선 기초 민주당의 정당색 사용 벽보 개수 (가중치 유사도): 20, 정당색 사용 비율 (가중치 유사도): 13.99%\n"
          ]
        },
        {
          "output_type": "display_data",
          "data": {
            "text/plain": [
              "<Figure size 1000x400 with 1 Axes>"
            ],
            "image/png": "[encoded data removed]"
          },
          "metadata": {}
        },
        {
          "output_type": "stream",
          "name": "stdout",
          "text": [
            "5대 지선 기초 한나라당의 정당색 사용 벽보 개수 (가중치 유사도): 52, 정당색 사용 비율 (가중치 유사도): 29.89%\n"
          ]
        },
        {
          "output_type": "display_data",
          "data": {
            "text/plain": [
              "<Figure size 1000x400 with 1 Axes>"
            ],
            "image/png": "[encoded data removed]"
          },
          "metadata": {}
        },
        {
          "output_type": "stream",
          "name": "stdout",
          "text": [
            "4대 지선 기초 열린우리당의 정당색 사용 벽보 개수 (가중치 유사도): 26, 정당색 사용 비율 (가중치 유사도): 14.77%\n"
          ]
        },
        {
          "output_type": "display_data",
          "data": {
            "text/plain": [
              "<Figure size 1000x400 with 1 Axes>"
            ],
            "image/png": "[encoded data removed]"
          },
          "metadata": {}
        },
        {
          "output_type": "stream",
          "name": "stdout",
          "text": [
            "4대 지선 기초 한나라당의 정당색 사용 벽보 개수 (가중치 유사도): 67, 정당색 사용 비율 (가중치 유사도): 35.45%\n"
          ]
        },
        {
          "output_type": "display_data",
          "data": {
            "text/plain": [
              "<Figure size 1000x400 with 1 Axes>"
            ],
            "image/png": "[encoded data removed]"
          },
          "metadata": {}
        },
        {
          "output_type": "stream",
          "name": "stdout",
          "text": [
            "3대 지선 기초 새천년민주당의 정당색 사용 벽보 개수 (가중치 유사도): 9, 정당색 사용 비율 (가중치 유사도): 6.25%\n"
          ]
        },
        {
          "output_type": "display_data",
          "data": {
            "text/plain": [
              "<Figure size 1000x400 with 1 Axes>"
            ],
            "image/png": "[encoded data removed]"
          },
          "metadata": {}
        },
        {
          "output_type": "stream",
          "name": "stdout",
          "text": [
            "3대 지선 기초 한나라당의 정당색 사용 벽보 개수 (가중치 유사도): 10, 정당색 사용 비율 (가중치 유사도): 5.92%\n"
          ]
        },
        {
          "output_type": "display_data",
          "data": {
            "text/plain": [
              "<Figure size 1000x400 with 1 Axes>"
            ],
            "image/png": "[encoded data removed]"
          },
          "metadata": {}
        }
      ]
    }
  ],
  "metadata": {
    "colab": {
      "provenance": [],
      "toc_visible": true
    },
    "kernelspec": {
      "display_name": "Python 3",
      "name": "python3"
    },
    "language_info": {
      "name": "python"
    }
  },
  "nbformat": 4,
  "nbformat_minor": 0
}